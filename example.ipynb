{
 "cells": [
  {
   "cell_type": "code",
   "execution_count": null,
   "id": "88768790",
   "metadata": {},
   "outputs": [],
   "source": [
    "!pip install boto3\n",
    "!pip install pyyaml"
   ]
  },
  {
   "cell_type": "code",
   "execution_count": null,
   "id": "3384927e",
   "metadata": {},
   "outputs": [],
   "source": [
    "from cluster.BatchJob import BatchJob"
   ]
  },
  {
   "cell_type": "code",
   "execution_count": null,
   "id": "64fb6d9a",
   "metadata": {},
   "outputs": [],
   "source": [
    "my_batch = BatchJob()"
   ]
  },
  {
   "cell_type": "code",
   "execution_count": null,
   "id": "1a12c6a5",
   "metadata": {},
   "outputs": [],
   "source": [
    "resp = my_batch.create_job(batchConfigFile=\"config/example_job.yaml\")"
   ]
  }
 ],
 "metadata": {
  "kernelspec": {
   "display_name": "Python 3 (ipykernel)",
   "language": "python",
   "name": "python3"
  },
  "language_info": {
   "codemirror_mode": {
    "name": "ipython",
    "version": 3
   },
   "file_extension": ".py",
   "mimetype": "text/x-python",
   "name": "python",
   "nbconvert_exporter": "python",
   "pygments_lexer": "ipython3",
   "version": "3.9.5"
  }
 },
 "nbformat": 4,
 "nbformat_minor": 5
}
